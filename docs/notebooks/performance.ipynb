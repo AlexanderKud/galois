{
 "cells": [
  {
   "cell_type": "markdown",
   "metadata": {},
   "source": [
    "# Performance testing"
   ]
  },
  {
   "cell_type": "code",
   "execution_count": 1,
   "metadata": {},
   "outputs": [],
   "source": [
    "import numpy as np\n",
    "\n",
    "import galois"
   ]
  },
  {
   "cell_type": "code",
   "execution_count": 2,
   "metadata": {},
   "outputs": [],
   "source": [
    "GFp_small = galois.GF_factory(31, 1)\n",
    "GFp_large = galois.GF_factory(2267, 1)"
   ]
  },
  {
   "cell_type": "code",
   "execution_count": 9,
   "metadata": {},
   "outputs": [],
   "source": [
    "def construct_arrays(GF, N):\n",
    "    order = GF.order\n",
    "\n",
    "    a = np.random.randint(0, order, N, dtype=int)\n",
    "    b = np.random.randint(0, order, N, dtype=int)\n",
    "\n",
    "    ga = GF(a)\n",
    "    gb = GF(b)\n",
    "\n",
    "    return a, b, ga, gb, order"
   ]
  },
  {
   "cell_type": "code",
   "execution_count": 4,
   "metadata": {},
   "outputs": [],
   "source": [
    "def pure_python_add(a, b, modulus):\n",
    "    c = np.zeros(a.size, dtype=a.dtype)\n",
    "    for i in range(a.size):\n",
    "        c[i] = (a[i] + b[i]) % modulus\n",
    "    return c\n",
    "\n",
    "def pure_python_exp(a, b, order):\n",
    "    c = np.ones(a.size, dtype=a.dtype)\n",
    "    for i in range(a.size):\n",
    "        for _ in range(0, b):\n",
    "            c[i] = (c[i] * a[i]) % order\n",
    "    return c\n",
    "\n",
    "def numpy_exp(a, b, order):\n",
    "    c = np.ones(a.size, dtype=a.dtype)\n",
    "    for _ in range(0, b):\n",
    "        c = (c * a) % order\n",
    "    return c\n"
   ]
  },
  {
   "cell_type": "markdown",
   "metadata": {},
   "source": [
    "## GF(p) speed tests"
   ]
  },
  {
   "cell_type": "markdown",
   "metadata": {},
   "source": [
    "### GF(31) addition, N=10e3"
   ]
  },
  {
   "cell_type": "code",
   "execution_count": 12,
   "metadata": {},
   "outputs": [
    {
     "name": "stdout",
     "output_type": "stream",
     "text": [
      "Pure python addition in GF(31)\n",
      "7.03 ms ± 170 µs per loop (mean ± std. dev. of 7 runs, 100 loops each)\n",
      "\n",
      "Native numpy addition in GF(31)\n",
      "117 µs ± 475 ns per loop (mean ± std. dev. of 7 runs, 10000 loops each)\n",
      "\n",
      "`galois` implementation of addition in GF(31)\n",
      "85.2 µs ± 2.44 µs per loop (mean ± std. dev. of 7 runs, 10000 loops each)\n"
     ]
    }
   ],
   "source": [
    "N = int(10e3)\n",
    "a, b, ga, gb, order = construct_arrays(GFp_small, N)\n",
    "\n",
    "print(f\"Pure python addition in GF({order})\")\n",
    "%timeit pure_python_add(a, b, order)\n",
    "\n",
    "print(f\"\\nNative numpy addition in GF({order})\")\n",
    "%timeit (a + b) % order\n",
    "\n",
    "print(f\"\\n`galois` implementation of addition in GF({order})\")\n",
    "%timeit ga + gb"
   ]
  },
  {
   "cell_type": "markdown",
   "metadata": {},
   "source": [
    "### GF(31) addition, N=10e6"
   ]
  },
  {
   "cell_type": "code",
   "execution_count": 13,
   "metadata": {},
   "outputs": [
    {
     "name": "stdout",
     "output_type": "stream",
     "text": [
      "Pure python addition in GF(31)\n",
      "8.56 s ± 598 ms per loop (mean ± std. dev. of 7 runs, 1 loop each)\n",
      "\n",
      "Native numpy addition in GF(31)\n",
      "162 ms ± 1.5 ms per loop (mean ± std. dev. of 7 runs, 10 loops each)\n",
      "\n",
      "`galois` implementation of addition in GF(31)\n",
      "121 ms ± 1.84 ms per loop (mean ± std. dev. of 7 runs, 10 loops each)\n"
     ]
    }
   ],
   "source": [
    "N = int(10e6)\n",
    "a, b, ga, gb, order = construct_arrays(GFp_small, N)\n",
    "\n",
    "print(f\"Pure python addition in GF({order})\")\n",
    "%timeit pure_python_add(a, b, order)\n",
    "\n",
    "print(f\"\\nNative numpy addition in GF({order})\")\n",
    "%timeit (a + b) % order\n",
    "\n",
    "print(f\"\\n`galois` implementation of addition in GF({order})\")\n",
    "%timeit ga + gb"
   ]
  },
  {
   "cell_type": "markdown",
   "metadata": {},
   "source": [
    "### GF(31) exponentiation, N=10e3"
   ]
  },
  {
   "cell_type": "code",
   "execution_count": 17,
   "metadata": {},
   "outputs": [
    {
     "name": "stdout",
     "output_type": "stream",
     "text": [
      "Pure python exponentiation in GF(31)\n",
      "151 ms ± 4.05 ms per loop (mean ± std. dev. of 7 runs, 10 loops each)\n",
      "\n",
      "Native numpy exponentiation in GF(31)\n",
      "2.51 ms ± 62.9 µs per loop (mean ± std. dev. of 7 runs, 100 loops each)\n",
      "\n",
      "`galois` implementation of exponentiation in GF(31)\n",
      "1.03 ms ± 18.7 µs per loop (mean ± std. dev. of 7 runs, 1000 loops each)\n"
     ]
    }
   ],
   "source": [
    "N = int(10e3)\n",
    "a, b, ga, gb, order = construct_arrays(GFp_small, N)\n",
    "\n",
    "exponent = 21\n",
    "\n",
    "print(f\"Pure python exponentiation in GF({order})\")\n",
    "%timeit pure_python_exp(a, exponent, order)\n",
    "\n",
    "print(f\"\\nNative numpy exponentiation in GF({order})\")\n",
    "%timeit numpy_exp(a, exponent, order)\n",
    "\n",
    "print(f\"\\n`galois` implementation of exponentiation in GF({order})\")\n",
    "%timeit ga ** exponent"
   ]
  },
  {
   "cell_type": "markdown",
   "metadata": {},
   "source": [
    "### GF(31) exponentiation, N=10e6"
   ]
  },
  {
   "cell_type": "code",
   "execution_count": 19,
   "metadata": {},
   "outputs": [
    {
     "name": "stdout",
     "output_type": "stream",
     "text": [
      "\n",
      "Native numpy exponentiation in GF(31)\n",
      "2.96 s ± 239 ms per loop (mean ± std. dev. of 7 runs, 1 loop each)\n",
      "\n",
      "`galois` implementation of exponentiation in GF(31)\n",
      "1.08 s ± 43.8 ms per loop (mean ± std. dev. of 7 runs, 1 loop each)\n"
     ]
    }
   ],
   "source": [
    "N = int(10e6)\n",
    "a, b, ga, gb, order = construct_arrays(GFp_small, N)\n",
    "\n",
    "exponent = 21\n",
    "\n",
    "# print(f\"Pure python exponentiation in GF({order})\")\n",
    "# %timeit pure_python_exp(a, exponent, order)\n",
    "\n",
    "print(f\"\\nNative numpy exponentiation in GF({order})\")\n",
    "%timeit numpy_exp(a, exponent, order)\n",
    "\n",
    "print(f\"\\n`galois` implementation of exponentiation in GF({order})\")\n",
    "%timeit ga ** exponent"
   ]
  }
 ],
 "metadata": {
  "kernelspec": {
   "display_name": "Python 3",
   "language": "python",
   "name": "python3"
  },
  "language_info": {
   "codemirror_mode": {
    "name": "ipython",
    "version": 3
   },
   "file_extension": ".py",
   "mimetype": "text/x-python",
   "name": "python",
   "nbconvert_exporter": "python",
   "pygments_lexer": "ipython3",
   "version": "3.8.5"
  },
  "orig_nbformat": 2
 },
 "nbformat": 4,
 "nbformat_minor": 2
}